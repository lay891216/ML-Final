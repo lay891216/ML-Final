{
 "cells": [
  {
   "cell_type": "code",
   "execution_count": 55,
   "metadata": {},
   "outputs": [],
   "source": [
    "import polars as pl\n",
    "import numpy as np\n",
    "import xgboost as xgb\n",
    "from sklearn.linear_model import LogisticRegression\n",
    "from sklearn.model_selection import train_test_split\n",
    "from sklearn.model_selection import StratifiedKFold, ParameterGrid\n",
    "from sklearn.metrics import confusion_matrix, precision_recall_fscore_support,classification_report,roc_curve, auc\n",
    "import time\n",
    "import matplotlib.pyplot as plt"
   ]
  },
  {
   "cell_type": "code",
   "execution_count": 39,
   "metadata": {},
   "outputs": [],
   "source": [
    "data_path = \"C:/Users/lay89/OneDrive/文件/碩班/113-1機器學習/期末報告/archive/cardio_train.csv\"\n",
    "df = pl.read_csv(data_path,separator=\";\")"
   ]
  },
  {
   "cell_type": "code",
   "execution_count": 56,
   "metadata": {},
   "outputs": [
    {
     "name": "stdout",
     "output_type": "stream",
     "text": [
      "Rows: 70000, Columns: 13\n",
      "shape: (20, 13)\n",
      "┌─────┬───────┬────────┬────────┬───┬───────┬──────┬────────┬────────┐\n",
      "│ id  ┆ age   ┆ gender ┆ height ┆ … ┆ smoke ┆ alco ┆ active ┆ cardio │\n",
      "│ --- ┆ ---   ┆ ---    ┆ ---    ┆   ┆ ---   ┆ ---  ┆ ---    ┆ ---    │\n",
      "│ i64 ┆ i64   ┆ i64    ┆ i64    ┆   ┆ i64   ┆ i64  ┆ i64    ┆ i64    │\n",
      "╞═════╪═══════╪════════╪════════╪═══╪═══════╪══════╪════════╪════════╡\n",
      "│ 0   ┆ 18393 ┆ 2      ┆ 168    ┆ … ┆ 0     ┆ 0    ┆ 1      ┆ 0      │\n",
      "│ 1   ┆ 20228 ┆ 1      ┆ 156    ┆ … ┆ 0     ┆ 0    ┆ 1      ┆ 1      │\n",
      "│ 2   ┆ 18857 ┆ 1      ┆ 165    ┆ … ┆ 0     ┆ 0    ┆ 0      ┆ 1      │\n",
      "│ 3   ┆ 17623 ┆ 2      ┆ 169    ┆ … ┆ 0     ┆ 0    ┆ 1      ┆ 1      │\n",
      "│ 4   ┆ 17474 ┆ 1      ┆ 156    ┆ … ┆ 0     ┆ 0    ┆ 0      ┆ 0      │\n",
      "│ …   ┆ …     ┆ …      ┆ …      ┆ … ┆ …     ┆ …    ┆ …      ┆ …      │\n",
      "│ 24  ┆ 16782 ┆ 2      ┆ 172    ┆ … ┆ 0     ┆ 0    ┆ 0      ┆ 1      │\n",
      "│ 25  ┆ 21296 ┆ 1      ┆ 170    ┆ … ┆ 0     ┆ 0    ┆ 0      ┆ 0      │\n",
      "│ 27  ┆ 16747 ┆ 1      ┆ 158    ┆ … ┆ 0     ┆ 0    ┆ 1      ┆ 0      │\n",
      "│ 28  ┆ 17482 ┆ 1      ┆ 154    ┆ … ┆ 0     ┆ 0    ┆ 0      ┆ 0      │\n",
      "│ 29  ┆ 21755 ┆ 2      ┆ 162    ┆ … ┆ 1     ┆ 0    ┆ 1      ┆ 0      │\n",
      "└─────┴───────┴────────┴────────┴───┴───────┴──────┴────────┴────────┘\n",
      "shape: (9, 14)\n",
      "┌────────────┬─────────────┬────────────┬──────────┬───┬──────────┬──────────┬──────────┬──────────┐\n",
      "│ statistic  ┆ id          ┆ age        ┆ gender   ┆ … ┆ smoke    ┆ alco     ┆ active   ┆ cardio   │\n",
      "│ ---        ┆ ---         ┆ ---        ┆ ---      ┆   ┆ ---      ┆ ---      ┆ ---      ┆ ---      │\n",
      "│ str        ┆ f64         ┆ f64        ┆ f64      ┆   ┆ f64      ┆ f64      ┆ f64      ┆ f64      │\n",
      "╞════════════╪═════════════╪════════════╪══════════╪═══╪══════════╪══════════╪══════════╪══════════╡\n",
      "│ count      ┆ 70000.0     ┆ 70000.0    ┆ 70000.0  ┆ … ┆ 70000.0  ┆ 70000.0  ┆ 70000.0  ┆ 70000.0  │\n",
      "│ null_count ┆ 0.0         ┆ 0.0        ┆ 0.0      ┆ … ┆ 0.0      ┆ 0.0      ┆ 0.0      ┆ 0.0      │\n",
      "│ mean       ┆ 49972.4199  ┆ 19468.8658 ┆ 1.349571 ┆ … ┆ 0.088129 ┆ 0.053771 ┆ 0.803729 ┆ 0.4997   │\n",
      "│            ┆             ┆ 14         ┆          ┆   ┆          ┆          ┆          ┆          │\n",
      "│ std        ┆ 28851.30232 ┆ 2467.25166 ┆ 0.476838 ┆ … ┆ 0.283484 ┆ 0.225568 ┆ 0.397179 ┆ 0.500003 │\n",
      "│            ┆ 3           ┆ 7          ┆          ┆   ┆          ┆          ┆          ┆          │\n",
      "│ min        ┆ 0.0         ┆ 10798.0    ┆ 1.0      ┆ … ┆ 0.0      ┆ 0.0      ┆ 0.0      ┆ 0.0      │\n",
      "│ 25%        ┆ 25007.0     ┆ 17664.0    ┆ 1.0      ┆ … ┆ 0.0      ┆ 0.0      ┆ 1.0      ┆ 0.0      │\n",
      "│ 50%        ┆ 50002.0     ┆ 19703.0    ┆ 1.0      ┆ … ┆ 0.0      ┆ 0.0      ┆ 1.0      ┆ 0.0      │\n",
      "│ 75%        ┆ 74889.0     ┆ 21327.0    ┆ 2.0      ┆ … ┆ 0.0      ┆ 0.0      ┆ 1.0      ┆ 1.0      │\n",
      "│ max        ┆ 99999.0     ┆ 23713.0    ┆ 2.0      ┆ … ┆ 1.0      ┆ 1.0      ┆ 1.0      ┆ 1.0      │\n",
      "└────────────┴─────────────┴────────────┴──────────┴───┴──────────┴──────────┴──────────┴──────────┘\n",
      "['id', 'age', 'gender', 'height', 'weight', 'ap_hi', 'ap_lo', 'cholesterol', 'gluc', 'smoke', 'alco', 'active', 'cardio']\n"
     ]
    }
   ],
   "source": [
    "rows, cols = df.shape\n",
    "print(f\"Rows: {rows}, Columns: {cols}\")\n",
    "print(df.head(20))\n",
    "print(df.describe())\n",
    "print(df.columns)\n",
    "#70000筆 12個變數"
   ]
  },
  {
   "cell_type": "code",
   "execution_count": 57,
   "metadata": {},
   "outputs": [
    {
     "name": "stdout",
     "output_type": "stream",
     "text": [
      "每列缺失值比例 (%)：\n",
      "shape: (1, 13)\n",
      "┌─────┬─────┬────────┬────────┬───┬───────┬──────┬────────┬────────┐\n",
      "│ id  ┆ age ┆ gender ┆ height ┆ … ┆ smoke ┆ alco ┆ active ┆ cardio │\n",
      "│ --- ┆ --- ┆ ---    ┆ ---    ┆   ┆ ---   ┆ ---  ┆ ---    ┆ ---    │\n",
      "│ f64 ┆ f64 ┆ f64    ┆ f64    ┆   ┆ f64   ┆ f64  ┆ f64    ┆ f64    │\n",
      "╞═════╪═════╪════════╪════════╪═══╪═══════╪══════╪════════╪════════╡\n",
      "│ 0.0 ┆ 0.0 ┆ 0.0    ┆ 0.0    ┆ … ┆ 0.0   ┆ 0.0  ┆ 0.0    ┆ 0.0    │\n",
      "└─────┴─────┴────────┴────────┴───┴───────┴──────┴────────┴────────┘\n",
      "每列缺失值數量：\n",
      "{'id': 0, 'age': 0, 'gender': 0, 'height': 0, 'weight': 0, 'ap_hi': 0, 'ap_lo': 0, 'cholesterol': 0, 'gluc': 0, 'smoke': 0, 'alco': 0, 'active': 0, 'cardio': 0}\n",
      "包含缺失值的列及數量：\n",
      "{}\n"
     ]
    }
   ],
   "source": [
    "#missing\n",
    "missing_count = df.null_count()\n",
    "missing_ratio = missing_count / df.shape[0] * 100\n",
    "print(\"每列缺失值比例 (%)：\")\n",
    "print(missing_ratio)\n",
    "# 將每列缺失值數量轉換為字典\n",
    "missing_count_dict = {col: missing_count[col][0] for col in missing_count.columns}\n",
    "\n",
    "# 篩選出有缺失值的列及其缺失值數量\n",
    "columns_with_missing = {col: count for col, count in missing_count_dict.items() if count > 0}\n",
    "\n",
    "# 打印結果\n",
    "print(\"每列缺失值數量：\")\n",
    "print(missing_count_dict)\n",
    "\n",
    "print(\"包含缺失值的列及數量：\")\n",
    "print(columns_with_missing)\n",
    "\n",
    "#沒有缺失值"
   ]
  },
  {
   "cell_type": "code",
   "execution_count": 58,
   "metadata": {},
   "outputs": [
    {
     "name": "stdout",
     "output_type": "stream",
     "text": [
      "shape: (2, 3)\n",
      "┌────────┬───────┬────────────┐\n",
      "│ cardio ┆ count ┆ percentage │\n",
      "│ ---    ┆ ---   ┆ ---        │\n",
      "│ i64    ┆ u32   ┆ f64        │\n",
      "╞════════╪═══════╪════════════╡\n",
      "│ 0      ┆ 35021 ┆ 50.03      │\n",
      "│ 1      ┆ 34979 ┆ 49.97      │\n",
      "└────────┴───────┴────────────┘\n"
     ]
    }
   ],
   "source": [
    "# 計算每個值的頻率和比例\n",
    "binary_table = (\n",
    "    df.group_by(\"cardio\")\n",
    "    .agg([\n",
    "        pl.col(\"cardio\").count().alias(\"count\"),\n",
    "    ])\n",
    "    .with_columns((pl.col(\"count\") / df.shape[0] * 100).alias(\"percentage\"))\n",
    ")\n",
    "\n",
    "# 顯示結果\n",
    "print(binary_table)"
   ]
  },
  {
   "cell_type": "code",
   "execution_count": 59,
   "metadata": {},
   "outputs": [
    {
     "name": "stdout",
     "output_type": "stream",
     "text": [
      "新資料集大小: (38523, 13)\n",
      "cardio=0 : cardio=1 = 35021:3502 (約 10.0:1)\n"
     ]
    }
   ],
   "source": [
    "# 2. 建立不平衡資料集 (cardio 0:1 = 10:1)\n",
    "#    2.1 分開 0 與 1 兩群\n",
    "df_0 = df.filter(pl.col(\"cardio\") == 0)\n",
    "df_1 = df.filter(pl.col(\"cardio\") == 1)\n",
    "\n",
    "#    2.2 計算所需樣本數 (假設想要 negative : positive = 10:1)\n",
    "count_0 = df_0.shape[0]  # 負樣本數量\n",
    "target_1 = 0.1 * count_0  # 需要的正樣本數量\n",
    "\n",
    "#    2.3 若 df_0 的數量足夠，隨機抽取 target_0 筆\n",
    "#        若 df_0 不足，可自行決定是全部取完或調整策略\n",
    "df_1_sample = df_1.sample(n=target_1, shuffle=True, seed=42)  # polars 的隨機抽樣\n",
    "\n",
    "#    2.4 合併負樣本 (0) 與正樣本 (1)\n",
    "df_unbalanced = pl.concat([df_1_sample, df_0], how=\"vertical\")\n",
    "\n",
    "#    2.5 打亂資料 (避免原本順序造成偏差)\n",
    "df_unbalanced = df_unbalanced.sample(\n",
    "    n=df_unbalanced.shape[0],  # 整個 DataFrame 的總筆數\n",
    "    shuffle=True, \n",
    "    seed=123\n",
    ")\n",
    "print(f\"新資料集大小: {df_unbalanced.shape}\")\n",
    "count_0_new = df_unbalanced.filter(pl.col(\"cardio\") == 0).shape[0]\n",
    "count_1_new = df_unbalanced.filter(pl.col(\"cardio\") == 1).shape[0]\n",
    "print(f\"cardio=0 : cardio=1 = {count_0_new}:{count_1_new} (約 {count_0_new/count_1_new:.1f}:1)\")\n"
   ]
  },
  {
   "cell_type": "code",
   "execution_count": 60,
   "metadata": {},
   "outputs": [],
   "source": [
    "train_df, test_df = train_test_split(df_unbalanced.to_pandas(),\n",
    "                                     test_size=1/6, \n",
    "                                     random_state=2023,\n",
    "                                     shuffle=True)"
   ]
  },
  {
   "cell_type": "code",
   "execution_count": 61,
   "metadata": {},
   "outputs": [],
   "source": [
    "# 4. 準備特徵與標籤\n",
    "#    假設要丟進模型的欄位是除了 'id' 和 'cardio' 之外的所有欄位\n",
    "features = ['age', 'gender', 'height', 'weight', 'ap_hi', 'ap_lo', \n",
    "            'cholesterol', 'gluc', 'smoke', 'alco', 'active']\n",
    "\n",
    "X_train = train_df[features]\n",
    "y_train = train_df['cardio']\n",
    "X_test = test_df[features]\n",
    "y_test = test_df['cardio']"
   ]
  },
  {
   "cell_type": "code",
   "execution_count": 62,
   "metadata": {},
   "outputs": [
    {
     "name": "stdout",
     "output_type": "stream",
     "text": [
      "=== (A) 一般 XGBoost 模型 ===\n",
      "Confusion Matrix:\n",
      " [[5762   95]\n",
      " [ 512   52]]\n",
      "Classification Report:\n",
      "               precision    recall  f1-score   support\n",
      "\n",
      "           0       0.92      0.98      0.95      5857\n",
      "           1       0.35      0.09      0.15       564\n",
      "\n",
      "    accuracy                           0.91      6421\n",
      "   macro avg       0.64      0.54      0.55      6421\n",
      "weighted avg       0.87      0.91      0.88      6421\n",
      "\n",
      "執行時間: 0.1536 秒\n"
     ]
    },
    {
     "name": "stderr",
     "output_type": "stream",
     "text": [
      "c:\\Users\\lay89\\AppData\\Local\\Programs\\Python\\Python310\\lib\\site-packages\\xgboost\\core.py:158: UserWarning: [15:08:19] WARNING: C:\\buildkite-agent\\builds\\buildkite-windows-cpu-autoscaling-group-i-0c55ff5f71b100e98-1\\xgboost\\xgboost-ci-windows\\src\\learner.cc:740: \n",
      "Parameters: { \"use_label_encoder\" } are not used.\n",
      "\n",
      "  warnings.warn(smsg, UserWarning)\n"
     ]
    }
   ],
   "source": [
    "# =========================\n",
    "# (A) 一般 XGBoost 模型\n",
    "# =========================\n",
    "print(\"=== (A) 一般 XGBoost 模型 ===\")\n",
    "start_time = time.time()\n",
    "model_normal = xgb.XGBClassifier(use_label_encoder=False, eval_metric='logloss',\n",
    "                                 random_state=42)\n",
    "model_normal.fit(X_train, y_train)\n",
    "\n",
    "y_pred_normal = model_normal.predict(X_test)\n",
    "cm_normal = confusion_matrix(y_test, y_pred_normal)\n",
    "print(\"Confusion Matrix:\\n\", cm_normal)\n",
    "print(\"Classification Report:\\n\", classification_report(y_test, y_pred_normal))\n",
    "end_time = time.time()\n",
    "execution_time = end_time - start_time\n",
    "print(f\"執行時間: {execution_time:.4f} 秒\")\n"
   ]
  },
  {
   "cell_type": "code",
   "execution_count": null,
   "metadata": {},
   "outputs": [
    {
     "name": "stdout",
     "output_type": "stream",
     "text": [
      "=== (B) 使用 scale_pos_weight 的 XGBoost ===\n",
      "Confusion Matrix (Weighted):\n",
      " [[4900  957]\n",
      " [ 258  306]]\n",
      "Classification Report (Weighted):\n",
      "               precision    recall  f1-score   support\n",
      "\n",
      "           0       0.95      0.84      0.89      5857\n",
      "           1       0.24      0.54      0.33       564\n",
      "\n",
      "    accuracy                           0.81      6421\n",
      "   macro avg       0.60      0.69      0.61      6421\n",
      "weighted avg       0.89      0.81      0.84      6421\n",
      "\n",
      "執行時間: 0.1586 秒\n"
     ]
    },
    {
     "name": "stderr",
     "output_type": "stream",
     "text": [
      "c:\\Users\\lay89\\AppData\\Local\\Programs\\Python\\Python310\\lib\\site-packages\\xgboost\\core.py:158: UserWarning: [17:12:06] WARNING: C:\\buildkite-agent\\builds\\buildkite-windows-cpu-autoscaling-group-i-0c55ff5f71b100e98-1\\xgboost\\xgboost-ci-windows\\src\\learner.cc:740: \n",
      "Parameters: { \"use_label_encoder\" } are not used.\n",
      "\n",
      "  warnings.warn(smsg, UserWarning)\n"
     ]
    }
   ],
   "source": [
    "# =========================\n",
    "# (B) 使用scale_pos_weight 的 XGBoost\n",
    "#     對「cardio=1」給予較高權重\n",
    "# =========================\n",
    "print(\"=== (B) 使用 scale_pos_weight 的 XGBoost ===\")\n",
    "# 設定 scale_pos_weight = 10, 代表正樣本的重要性是負樣本的 10 倍\n",
    "start_time = time.time()\n",
    "model_weighted = xgb.XGBClassifier(use_label_encoder=False, eval_metric='logloss',\n",
    "                                   scale_pos_weight=10,  # 核心參數\n",
    "                                   random_state=42)\n",
    "model_weighted.fit(X_train, y_train)\n",
    "\n",
    "y_pred_weighted = model_weighted.predict(X_test)\n",
    "cm_weighted = confusion_matrix(y_test, y_pred_weighted)\n",
    "print(\"Confusion Matrix (Weighted):\\n\", cm_weighted)\n",
    "print(\"Classification Report (Weighted):\\n\", classification_report(y_test, y_pred_weighted))\n",
    "end_time = time.time()\n",
    "execution_time = end_time - start_time\n",
    "print(f\"執行時間: {execution_time:.4f} 秒\")"
   ]
  },
  {
   "cell_type": "code",
   "execution_count": 83,
   "metadata": {},
   "outputs": [
    {
     "name": "stdout",
     "output_type": "stream",
     "text": [
      "=== (D) 使用Logistic regression做一階分類，再使用XGBoost進行二階分類 ===\n",
      "=== 第一階段篩選 ===\n",
      "第一階段高風險樣本比例: 0.7743342158542283\n",
      "第一階段混淆矩陣:\n",
      " [[1418 4439]\n",
      " [  31  533]]\n",
      "第一階段分類報告:\n",
      "               precision    recall  f1-score   support\n",
      "\n",
      "           0       0.98      0.24      0.39      5857\n",
      "           1       0.11      0.95      0.19       564\n",
      "\n",
      "    accuracy                           0.30      6421\n",
      "   macro avg       0.54      0.59      0.29      6421\n",
      "weighted avg       0.90      0.30      0.37      6421\n",
      "\n",
      "=== 第二階段篩選 ===\n",
      "第二階段混淆矩陣:\n",
      " [[3324 1115]\n",
      " [ 175  358]]\n",
      "第二階段分類報告:\n",
      "               precision    recall  f1-score   support\n",
      "\n",
      "           0       0.95      0.75      0.84      4439\n",
      "           1       0.24      0.67      0.36       533\n",
      "\n",
      "    accuracy                           0.74      4972\n",
      "   macro avg       0.60      0.71      0.60      4972\n",
      "weighted avg       0.87      0.74      0.79      4972\n",
      "\n",
      "整體混淆矩陣:\n",
      " [[4742 1115]\n",
      " [ 206  358]]\n",
      "整體分類報告:\n",
      "               precision    recall  f1-score   support\n",
      "\n",
      "           0       0.96      0.81      0.88      5857\n",
      "           1       0.24      0.63      0.35       564\n",
      "\n",
      "    accuracy                           0.79      6421\n",
      "   macro avg       0.60      0.72      0.61      6421\n",
      "weighted avg       0.90      0.79      0.83      6421\n",
      "\n",
      "執行時間: 0.3011 秒\n"
     ]
    },
    {
     "name": "stderr",
     "output_type": "stream",
     "text": [
      "c:\\Users\\lay89\\AppData\\Local\\Programs\\Python\\Python310\\lib\\site-packages\\sklearn\\linear_model\\_logistic.py:444: ConvergenceWarning: lbfgs failed to converge (status=1):\n",
      "STOP: TOTAL NO. of ITERATIONS REACHED LIMIT.\n",
      "\n",
      "Increase the number of iterations (max_iter) or scale the data as shown in:\n",
      "    https://scikit-learn.org/stable/modules/preprocessing.html\n",
      "Please also refer to the documentation for alternative solver options:\n",
      "    https://scikit-learn.org/stable/modules/linear_model.html#logistic-regression\n",
      "  n_iter_i = _check_optimize_result(\n"
     ]
    }
   ],
   "source": [
    "# =========================\n",
    "# (C) 分層篩選\n",
    "# =========================\n",
    "\n",
    "# === 第一階段模型：Logistic Regression ===\n",
    "print(\"=== (D) 使用Logistic regression做一階分類，再使用XGBoost進行二階分類 ===\")\n",
    "# 設置低閾值，抓取高風險樣本\n",
    "print(\"=== 第一階段篩選 ===\")\n",
    "start_time = time.time()\n",
    "logistic_model = LogisticRegression(random_state=42,class_weight={0:1, 1:10})\n",
    "logistic_model.fit(X_train, y_train)\n",
    "\n",
    "# 預測機率並標記高風險樣本\n",
    "y_pred_probs_stage1 = logistic_model.predict_proba(X_test)[:, 1]  # 預測機率 (Positive)\n",
    "low_threshold = 0.3  # 第一階段的寬鬆閾值\n",
    "stage1_high_risk = (y_pred_probs_stage1 > low_threshold).astype(int)  # 標記高風險樣本\n",
    "\n",
    "# 查看第一階段的效果\n",
    "print(\"第一階段高風險樣本比例:\", stage1_high_risk.mean())\n",
    "print(\"第一階段混淆矩陣:\\n\", confusion_matrix(y_test, stage1_high_risk))\n",
    "print(\"第一階段分類報告:\\n\", classification_report(y_test, stage1_high_risk))\n",
    "\n",
    "# 第一階段篩選高風險樣本 (測試集)\n",
    "print(\"=== 第二階段篩選 ===\")\n",
    "\n",
    "# 確保索引對齊 (只篩選測試集中的高風險樣本)\n",
    "high_risk_indices_test = (stage1_high_risk == 1)  # 高風險樣本索引 (測試集)\n",
    "X_test_high_risk = X_test[high_risk_indices_test]\n",
    "y_test_high_risk = y_test[high_risk_indices_test]\n",
    "\n",
    "# 若需要對訓練集進行分層篩選（可選）\n",
    "y_pred_probs_stage1_train = logistic_model.predict_proba(X_train)[:, 1]\n",
    "high_risk_indices_train = (y_pred_probs_stage1_train > low_threshold)  # 高風險樣本索引 (訓練集)\n",
    "X_train_high_risk = X_train[high_risk_indices_train]\n",
    "y_train_high_risk = y_train[high_risk_indices_train]\n",
    "\n",
    "# 第二階段模型：XGBoost (僅對高風險樣本進行訓練與預測)\n",
    "\n",
    "params = {\n",
    "    \"objective\": \"binary:logistic\",\n",
    "    \"eval_metric\": \"logloss\",\n",
    "    \"scale_pos_weight\":10,\n",
    "    \"max_depth\": 5,\n",
    "    \"eta\": 0.1,\n",
    "    \"seed\": 42\n",
    "}\n",
    "dtrain_high_risk = xgb.DMatrix(X_train_high_risk, label=y_train_high_risk)\n",
    "dtest_high_risk = xgb.DMatrix(X_test_high_risk, label=y_test_high_risk)\n",
    "\n",
    "xgb_model = xgb.train(\n",
    "    params=params,\n",
    "    dtrain=dtrain_high_risk,\n",
    "    num_boost_round=100,\n",
    "    evals=[(dtest_high_risk, \"test\")],\n",
    "    verbose_eval=False\n",
    ")\n",
    "\n",
    "# 預測高風險樣本\n",
    "y_pred_probs_stage2 = xgb_model.predict(dtest_high_risk)\n",
    "high_threshold = 0.5  # 第二階段的嚴格閾值\n",
    "stage2_pred = (y_pred_probs_stage2 > high_threshold).astype(int)\n",
    "\n",
    "# 查看第二階段的效果\n",
    "print(\"第二階段混淆矩陣:\\n\", confusion_matrix(y_test_high_risk, stage2_pred))\n",
    "print(\"第二階段分類報告:\\n\", classification_report(y_test_high_risk, stage2_pred))\n",
    "\n",
    "# 整合結果 (將第一階段低風險樣本視為 cardio=0，第二階段的結果覆蓋高風險樣本)\n",
    "final_predictions = np.zeros_like(y_test)  # 初始化為低風險\n",
    "final_predictions[high_risk_indices_test] = stage2_pred  # 第二階段結果覆蓋高風險樣本\n",
    "# 查看整體效果\n",
    "print(\"整體混淆矩陣:\\n\", confusion_matrix(y_test, final_predictions))\n",
    "print(\"整體分類報告:\\n\", classification_report(y_test, final_predictions))\n",
    "end_time = time.time()\n",
    "execution_time = end_time - start_time\n",
    "print(f\"執行時間: {execution_time:.4f} 秒\")\n"
   ]
  },
  {
   "cell_type": "code",
   "execution_count": 82,
   "metadata": {},
   "outputs": [
    {
     "data": {
      "image/png": "[encoded data removed]",
      "text/plain": [
       "<Figure size 576x432 with 1 Axes>"
      ]
     },
     "metadata": {
      "needs_background": "light"
     },
     "output_type": "display_data"
    }
   ],
   "source": [
    "# =========================\n",
    "# 繪製ROC Curve\n",
    "# =========================\n",
    "\n",
    "#一般xg boost 的預測機率\n",
    "y_prob_normal = model_normal.predict_proba(X_test)[:, 1]\n",
    "#print(y_prob_normal)\n",
    "\n",
    "#weighted XGBoost的預測機率\n",
    "y_prob_weighted = model_weighted.predict_proba(X_test)[:, 1]\n",
    "#print(y_prob_weighted)\n",
    "\n",
    "#二階分類的預測機率\n",
    "dtest = xgb.DMatrix(X_test)\n",
    "y_prob_logistic = logistic_model.predict_proba(X_test)[:, 1]  # 第一階段機率\n",
    "high_idx = (y_prob_logistic > 0.2)  # 第一階段篩選「高風險」樣本\n",
    "low_idx = (y_prob_logistic <= 0.2)\n",
    "dtest_high = xgb.DMatrix(X_test[high_idx])  # 只取高風險樣本的子集\n",
    "y_pred_probs_stage2 = xgb_model.predict(dtest_high)  # 第二階段的機率預測\n",
    "y_prob_2stage = np.zeros_like(y_prob_logistic)\n",
    "y_prob_2stage[low_idx] = y_prob_logistic[low_idx]\n",
    "y_prob_2stage[high_idx] = y_pred_probs_stage2\n",
    "\n",
    "# 一般 XGBoost 的 ROC 曲線\n",
    "fpr_normal, tpr_normal, _ = roc_curve(y_test, y_prob_normal)\n",
    "auc_normal = auc(fpr_normal, tpr_normal)\n",
    "\n",
    "# Weighted XGBoost 的 ROC 曲線\n",
    "fpr_weighted, tpr_weighted, _ = roc_curve(y_test, y_prob_weighted)\n",
    "auc_weighted = auc(fpr_weighted, tpr_weighted)\n",
    "\n",
    "# 二階段模型的 ROC 曲線\n",
    "fpr_2stage, tpr_2stage, _ = roc_curve(y_test, y_prob_2stage)\n",
    "auc_2stage = auc(fpr_2stage, tpr_2stage)\n",
    "\n",
    "# 繪製 ROC 曲線\n",
    "plt.figure(figsize=(8, 6))\n",
    "plt.plot(fpr_normal, tpr_normal, label=f\"Normal XGBoost (AUC = {auc_normal:.3f})\")\n",
    "plt.plot(fpr_weighted, tpr_weighted, label=f\"Weighted XGBoost (AUC = {auc_weighted:.3f})\")\n",
    "plt.plot(fpr_2stage, tpr_2stage, label=f\"Two-Stage Model (AUC = {auc_2stage:.3f})\")\n",
    "plt.xlabel(\"False Positive Rate\")\n",
    "plt.ylabel(\"True Positive Rate\")\n",
    "plt.title(\"ROC Curve Comparison\")\n",
    "plt.legend(loc=\"best\")\n",
    "plt.show()\n"
   ]
  }
 ],
 "metadata": {
  "kernelspec": {
   "display_name": "Python 3",
   "language": "python",
   "name": "python3"
  },
  "language_info": {
   "codemirror_mode": {
    "name": "ipython",
    "version": 3
   },
   "file_extension": ".py",
   "mimetype": "text/x-python",
   "name": "python",
   "nbconvert_exporter": "python",
   "pygments_lexer": "ipython3",
   "version": "3.10.4"
  }
 },
 "nbformat": 4,
 "nbformat_minor": 2
}
